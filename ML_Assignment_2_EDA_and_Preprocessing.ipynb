{
 "cells": [
  {
   "cell_type": "code",
   "execution_count": 67,
   "id": "fba218c1-40cc-4f5f-8937-d44085ec0e64",
   "metadata": {},
   "outputs": [],
   "source": [
    "import numpy as np\n",
    "import pandas as pd\n",
    "import matplotlib.pyplot as plt\n",
    "import seaborn as sns\n",
    "from sklearn.preprocessing import LabelEncoder, OneHotEncoder\n",
    "from sklearn.preprocessing import StandardScaler, MinMaxScaler\n",
    "\n"
   ]
  },
  {
   "cell_type": "code",
   "execution_count": 68,
   "id": "3e1b9322-ba4a-4be5-a2be-c5fd01fbba84",
   "metadata": {},
   "outputs": [],
   "source": [
    "import warnings\n",
    "import sys \n",
    "if not sys.warnoptions:\n",
    "    warnings . simplefilter( \"ignore\" )"
   ]
  },
  {
   "cell_type": "code",
   "execution_count": 69,
   "id": "d240bf40-c25f-4531-9bf2-2694f57af429",
   "metadata": {},
   "outputs": [],
   "source": [
    "# Load the dataset\n",
    "df = pd.read_csv(\"C:\\\\Users\\\\HP\\\\Downloads\\\\Employee.csv\")"
   ]
  },
  {
   "cell_type": "markdown",
   "id": "2d2349dd-e6b7-4c53-a17c-b2ea72bf7a4e",
   "metadata": {},
   "source": [
    "### Data Exploration: \n",
    "Explore the data, list down the unique values in each feature and find its length. Perform the statistical analysis and renaming of the columns."
   ]
  },
  {
   "cell_type": "code",
   "execution_count": 70,
   "id": "9b942700-ef52-4918-8e3a-b17aad0a17e9",
   "metadata": {},
   "outputs": [
    {
     "name": "stdout",
     "output_type": "stream",
     "text": [
      "<class 'pandas.core.frame.DataFrame'>\n",
      "RangeIndex: 148 entries, 0 to 147\n",
      "Data columns (total 6 columns):\n",
      " #   Column   Non-Null Count  Dtype  \n",
      "---  ------   --------------  -----  \n",
      " 0   Company  140 non-null    object \n",
      " 1   Age      130 non-null    float64\n",
      " 2   Salary   124 non-null    float64\n",
      " 3   Place    134 non-null    object \n",
      " 4   Country  148 non-null    object \n",
      " 5   Gender   148 non-null    int64  \n",
      "dtypes: float64(2), int64(1), object(3)\n",
      "memory usage: 7.1+ KB\n"
     ]
    }
   ],
   "source": [
    "# Display basic info\n",
    "df.info()"
   ]
  },
  {
   "cell_type": "code",
   "execution_count": 71,
   "id": "64fef6b2-478c-4fde-a356-a8f5f5c5d56a",
   "metadata": {},
   "outputs": [
    {
     "name": "stdout",
     "output_type": "stream",
     "text": [
      "\n",
      "Unique values in each feature:\n",
      "Company: 6 unique values\n",
      "['TCS' 'Infosys' 'CTS' 'Tata Consultancy Services' 'Congnizant'\n",
      " 'Infosys Pvt Lmt']\n",
      "Age: 29 unique values\n",
      "[20. 30. 35. 40. 23. 34. 45. 18. 22. 32.]\n",
      "Salary: 40 unique values\n",
      "[2300. 3000. 4000. 5000. 6000. 7000. 8000. 9000. 1089. 1234.]\n",
      "Place: 11 unique values\n",
      "['Chennai' 'Mumbai' 'Calcutta' 'Delhi' 'Podicherry' 'Cochin' 'Noida'\n",
      " 'Hyderabad' 'Bhopal' 'Nagpur']\n",
      "Country: 1 unique values\n",
      "['India']\n",
      "Gender: 2 unique values\n",
      "[0 1]\n"
     ]
    }
   ],
   "source": [
    "# List unique values and their count for each column\n",
    "print(\"\\nUnique values in each feature:\")\n",
    "for col in df.columns:\n",
    "    unique_vals = df[col].dropna().unique()\n",
    "    print(f\"{col}: {len(unique_vals)} unique values\")\n",
    "    print(unique_vals[:10])  # Displaying first 10 unique values"
   ]
  },
  {
   "cell_type": "code",
   "execution_count": 72,
   "id": "50bb348c-8331-4c20-80b3-24b139a7accd",
   "metadata": {},
   "outputs": [
    {
     "data": {
      "text/html": [
       "<div>\n",
       "<style scoped>\n",
       "    .dataframe tbody tr th:only-of-type {\n",
       "        vertical-align: middle;\n",
       "    }\n",
       "\n",
       "    .dataframe tbody tr th {\n",
       "        vertical-align: top;\n",
       "    }\n",
       "\n",
       "    .dataframe thead th {\n",
       "        text-align: right;\n",
       "    }\n",
       "</style>\n",
       "<table border=\"1\" class=\"dataframe\">\n",
       "  <thead>\n",
       "    <tr style=\"text-align: right;\">\n",
       "      <th></th>\n",
       "      <th>Age</th>\n",
       "      <th>Salary</th>\n",
       "      <th>Gender</th>\n",
       "    </tr>\n",
       "  </thead>\n",
       "  <tbody>\n",
       "    <tr>\n",
       "      <th>count</th>\n",
       "      <td>130.000000</td>\n",
       "      <td>124.000000</td>\n",
       "      <td>148.000000</td>\n",
       "    </tr>\n",
       "    <tr>\n",
       "      <th>mean</th>\n",
       "      <td>30.484615</td>\n",
       "      <td>5312.467742</td>\n",
       "      <td>0.222973</td>\n",
       "    </tr>\n",
       "    <tr>\n",
       "      <th>std</th>\n",
       "      <td>11.096640</td>\n",
       "      <td>2573.764683</td>\n",
       "      <td>0.417654</td>\n",
       "    </tr>\n",
       "    <tr>\n",
       "      <th>min</th>\n",
       "      <td>0.000000</td>\n",
       "      <td>1089.000000</td>\n",
       "      <td>0.000000</td>\n",
       "    </tr>\n",
       "    <tr>\n",
       "      <th>25%</th>\n",
       "      <td>22.000000</td>\n",
       "      <td>3030.000000</td>\n",
       "      <td>0.000000</td>\n",
       "    </tr>\n",
       "    <tr>\n",
       "      <th>50%</th>\n",
       "      <td>32.500000</td>\n",
       "      <td>5000.000000</td>\n",
       "      <td>0.000000</td>\n",
       "    </tr>\n",
       "    <tr>\n",
       "      <th>75%</th>\n",
       "      <td>37.750000</td>\n",
       "      <td>8000.000000</td>\n",
       "      <td>0.000000</td>\n",
       "    </tr>\n",
       "    <tr>\n",
       "      <th>max</th>\n",
       "      <td>54.000000</td>\n",
       "      <td>9876.000000</td>\n",
       "      <td>1.000000</td>\n",
       "    </tr>\n",
       "  </tbody>\n",
       "</table>\n",
       "</div>"
      ],
      "text/plain": [
       "              Age       Salary      Gender\n",
       "count  130.000000   124.000000  148.000000\n",
       "mean    30.484615  5312.467742    0.222973\n",
       "std     11.096640  2573.764683    0.417654\n",
       "min      0.000000  1089.000000    0.000000\n",
       "25%     22.000000  3030.000000    0.000000\n",
       "50%     32.500000  5000.000000    0.000000\n",
       "75%     37.750000  8000.000000    0.000000\n",
       "max     54.000000  9876.000000    1.000000"
      ]
     },
     "execution_count": 72,
     "metadata": {},
     "output_type": "execute_result"
    }
   ],
   "source": [
    "# Perform statistical analysis\n",
    "df.describe()\n"
   ]
  },
  {
   "cell_type": "code",
   "execution_count": 73,
   "id": "f31a9afe-cafc-4301-bd33-4e86bb148204",
   "metadata": {},
   "outputs": [],
   "source": [
    "# Renaming columns for better readability\n",
    "column_mapping = {\n",
    "    \"Company\": \"Company_Name\",\n",
    "    \"Age\": \"Employee_Age\",\n",
    "    \"Salary\": \"Employee_Salary\",\n",
    "    \"Place\": \"Location\",\n",
    "    \"Country\": \"Country_Name\",\n",
    "    \"Gender\": \"Gender_Code\"\n",
    "}\n",
    "df.rename(columns=column_mapping, inplace=True)\n"
   ]
  },
  {
   "cell_type": "code",
   "execution_count": 74,
   "id": "29672c59-ad07-4be5-a034-2e1536b61ff3",
   "metadata": {},
   "outputs": [
    {
     "name": "stdout",
     "output_type": "stream",
     "text": [
      "\n",
      "Updated Column Names:\n",
      "Index(['Company_Name', 'Employee_Age', 'Employee_Salary', 'Location',\n",
      "       'Country_Name', 'Gender_Code'],\n",
      "      dtype='object')\n"
     ]
    }
   ],
   "source": [
    "print(\"\\nUpdated Column Names:\")\n",
    "print(df.columns)\n"
   ]
  },
  {
   "cell_type": "code",
   "execution_count": 75,
   "id": "7c00af23-b34d-41a3-958a-b1e8f2048dfc",
   "metadata": {},
   "outputs": [
    {
     "name": "stdout",
     "output_type": "stream",
     "text": [
      "\n",
      "Standardized Company Names:\n",
      "['TCS' 'Infosys' 'Cognizant' 'Other']\n"
     ]
    }
   ],
   "source": [
    "# Standardizing company names\n",
    "def standardize_company(name):\n",
    "    name = name.strip().lower()\n",
    "    if name in [\"tcs\", \"tata consultancy services\"]:\n",
    "        return \"TCS\"\n",
    "    elif name in [\"infosys\", \"infosys pvt lmt\"]:\n",
    "        return \"Infosys\"\n",
    "    elif name in [\"cts\", \"cognizant\", \"congnizant\"]:\n",
    "        return \"Cognizant\"\n",
    "    else:\n",
    "        return \"Other\"\n",
    "\n",
    "df[\"Company_Name\"] = df[\"Company_Name\"].astype(str).apply(standardize_company)\n",
    "\n",
    "print(\"\\nStandardized Company Names:\")\n",
    "print(df[\"Company_Name\"].unique())"
   ]
  },
  {
   "cell_type": "markdown",
   "id": "b6b5a214-f66d-43df-ba48-d2eb9016efd0",
   "metadata": {},
   "source": [
    "### Data Cleaning\n",
    "Find the missing and inappropriate values, treat them appropriately. \n",
    "Remove all duplicate rows. \n",
    "Find the outliers. \n",
    "Replace the value 0 in age as NaN Treat the null values in all columns using any measures(removing/ replace the values with mean/median/mode)"
   ]
  },
  {
   "cell_type": "code",
   "execution_count": 77,
   "id": "f86df487-9b32-45f7-a701-b3e19e01bfbc",
   "metadata": {},
   "outputs": [],
   "source": [
    "# Replace 0 in Age with NaN\n",
    "df[\"Employee_Age\"] = df[\"Employee_Age\"].replace(0, np.nan)"
   ]
  },
  {
   "cell_type": "code",
   "execution_count": 78,
   "id": "40fcd228-d814-4a56-a8c6-5f43c9214c56",
   "metadata": {},
   "outputs": [],
   "source": [
    "# Handling missing values using mean/median/mode\n",
    "df[\"Employee_Age\"].fillna(df[\"Employee_Age\"].median(), inplace=True)\n",
    "df[\"Employee_Salary\"].fillna(df[\"Employee_Salary\"].mean(), inplace=True)\n",
    "df[\"Location\"].fillna(df[\"Location\"].mode()[0], inplace=True)\n",
    "df[\"Company_Name\"].fillna(df[\"Company_Name\"].mode()[0], inplace=True)\n"
   ]
  },
  {
   "cell_type": "code",
   "execution_count": 79,
   "id": "81a6a5ee-d181-476e-9fc0-bb2c50df3ab0",
   "metadata": {},
   "outputs": [],
   "source": [
    "# Remove duplicate rows\n",
    "df.drop_duplicates(inplace=True)"
   ]
  },
  {
   "cell_type": "code",
   "execution_count": 80,
   "id": "cc4eb097-4f57-428a-9164-3454003e1218",
   "metadata": {},
   "outputs": [
    {
     "data": {
      "text/html": [
       "<div>\n",
       "<style scoped>\n",
       "    .dataframe tbody tr th:only-of-type {\n",
       "        vertical-align: middle;\n",
       "    }\n",
       "\n",
       "    .dataframe tbody tr th {\n",
       "        vertical-align: top;\n",
       "    }\n",
       "\n",
       "    .dataframe thead th {\n",
       "        text-align: right;\n",
       "    }\n",
       "</style>\n",
       "<table border=\"1\" class=\"dataframe\">\n",
       "  <thead>\n",
       "    <tr style=\"text-align: right;\">\n",
       "      <th></th>\n",
       "      <th>Company_Name</th>\n",
       "      <th>Employee_Age</th>\n",
       "      <th>Employee_Salary</th>\n",
       "      <th>Location</th>\n",
       "      <th>Country_Name</th>\n",
       "      <th>Gender_Code</th>\n",
       "    </tr>\n",
       "  </thead>\n",
       "  <tbody>\n",
       "  </tbody>\n",
       "</table>\n",
       "</div>"
      ],
      "text/plain": [
       "Empty DataFrame\n",
       "Columns: [Company_Name, Employee_Age, Employee_Salary, Location, Country_Name, Gender_Code]\n",
       "Index: []"
      ]
     },
     "execution_count": 80,
     "metadata": {},
     "output_type": "execute_result"
    }
   ],
   "source": [
    "# Identifying outliers using IQR\n",
    "Q1 = df[\"Employee_Age\"].quantile(0.25)\n",
    "Q3 = df[\"Employee_Age\"].quantile(0.75)\n",
    "IQR = Q3 - Q1\n",
    "age_outliers = df[(df[\"Employee_Age\"] < (Q1 - 1.5 * IQR)) | (df[\"Employee_Age\"] > (Q3 + 1.5 * IQR))]\n",
    "\n",
    "age_outliers\n"
   ]
  },
  {
   "cell_type": "code",
   "execution_count": 81,
   "id": "fbff1d94-a02b-4b33-b6d9-ca0f2c892dfc",
   "metadata": {},
   "outputs": [
    {
     "data": {
      "image/png": "[encoded data removed]",
      "text/plain": [
       "<Figure size 800x500 with 1 Axes>"
      ]
     },
     "metadata": {},
     "output_type": "display_data"
    }
   ],
   "source": [
    "# Plot outliers using box plot\n",
    "plt.figure(figsize=(8, 5))\n",
    "sns.boxplot(x=df[\"Employee_Age\"])\n",
    "plt.title(\"Box Plot of Employee Age\")\n",
    "plt.show()\n"
   ]
  },
  {
   "cell_type": "markdown",
   "id": "6f9515b4-578a-4d2b-bb6e-a3fe3f05bd53",
   "metadata": {},
   "source": [
    "### Data Analysis:\n",
    "Filter the data with age >40 and salary<5000 Plot the chart with age and salary Count the number of people from each place and represent it visually"
   ]
  },
  {
   "cell_type": "code",
   "execution_count": 82,
   "id": "c49ee421-2843-48e3-b23e-a4625de2ae0b",
   "metadata": {},
   "outputs": [
    {
     "data": {
      "text/html": [
       "<div>\n",
       "<style scoped>\n",
       "    .dataframe tbody tr th:only-of-type {\n",
       "        vertical-align: middle;\n",
       "    }\n",
       "\n",
       "    .dataframe tbody tr th {\n",
       "        vertical-align: top;\n",
       "    }\n",
       "\n",
       "    .dataframe thead th {\n",
       "        text-align: right;\n",
       "    }\n",
       "</style>\n",
       "<table border=\"1\" class=\"dataframe\">\n",
       "  <thead>\n",
       "    <tr style=\"text-align: right;\">\n",
       "      <th></th>\n",
       "      <th>Company_Name</th>\n",
       "      <th>Employee_Age</th>\n",
       "      <th>Employee_Salary</th>\n",
       "      <th>Location</th>\n",
       "      <th>Country_Name</th>\n",
       "      <th>Gender_Code</th>\n",
       "    </tr>\n",
       "  </thead>\n",
       "  <tbody>\n",
       "    <tr>\n",
       "      <th>21</th>\n",
       "      <td>Infosys</td>\n",
       "      <td>50.0</td>\n",
       "      <td>3184.0</td>\n",
       "      <td>Delhi</td>\n",
       "      <td>India</td>\n",
       "      <td>0</td>\n",
       "    </tr>\n",
       "    <tr>\n",
       "      <th>32</th>\n",
       "      <td>Infosys</td>\n",
       "      <td>45.0</td>\n",
       "      <td>4034.0</td>\n",
       "      <td>Calcutta</td>\n",
       "      <td>India</td>\n",
       "      <td>0</td>\n",
       "    </tr>\n",
       "    <tr>\n",
       "      <th>39</th>\n",
       "      <td>Infosys</td>\n",
       "      <td>41.0</td>\n",
       "      <td>3000.0</td>\n",
       "      <td>Mumbai</td>\n",
       "      <td>India</td>\n",
       "      <td>0</td>\n",
       "    </tr>\n",
       "    <tr>\n",
       "      <th>50</th>\n",
       "      <td>Infosys</td>\n",
       "      <td>41.0</td>\n",
       "      <td>3000.0</td>\n",
       "      <td>Chennai</td>\n",
       "      <td>India</td>\n",
       "      <td>0</td>\n",
       "    </tr>\n",
       "    <tr>\n",
       "      <th>57</th>\n",
       "      <td>Infosys</td>\n",
       "      <td>51.0</td>\n",
       "      <td>3184.0</td>\n",
       "      <td>Hyderabad</td>\n",
       "      <td>India</td>\n",
       "      <td>0</td>\n",
       "    </tr>\n",
       "    <tr>\n",
       "      <th>68</th>\n",
       "      <td>Infosys</td>\n",
       "      <td>43.0</td>\n",
       "      <td>4034.0</td>\n",
       "      <td>Mumbai</td>\n",
       "      <td>India</td>\n",
       "      <td>0</td>\n",
       "    </tr>\n",
       "    <tr>\n",
       "      <th>75</th>\n",
       "      <td>Infosys</td>\n",
       "      <td>44.0</td>\n",
       "      <td>3000.0</td>\n",
       "      <td>Cochin</td>\n",
       "      <td>India</td>\n",
       "      <td>0</td>\n",
       "    </tr>\n",
       "    <tr>\n",
       "      <th>86</th>\n",
       "      <td>Infosys</td>\n",
       "      <td>41.0</td>\n",
       "      <td>3000.0</td>\n",
       "      <td>Delhi</td>\n",
       "      <td>India</td>\n",
       "      <td>0</td>\n",
       "    </tr>\n",
       "    <tr>\n",
       "      <th>93</th>\n",
       "      <td>Infosys</td>\n",
       "      <td>54.0</td>\n",
       "      <td>3184.0</td>\n",
       "      <td>Mumbai</td>\n",
       "      <td>India</td>\n",
       "      <td>0</td>\n",
       "    </tr>\n",
       "    <tr>\n",
       "      <th>104</th>\n",
       "      <td>Infosys</td>\n",
       "      <td>44.0</td>\n",
       "      <td>4034.0</td>\n",
       "      <td>Delhi</td>\n",
       "      <td>India</td>\n",
       "      <td>0</td>\n",
       "    </tr>\n",
       "    <tr>\n",
       "      <th>122</th>\n",
       "      <td>Infosys</td>\n",
       "      <td>44.0</td>\n",
       "      <td>3234.0</td>\n",
       "      <td>Mumbai</td>\n",
       "      <td>India</td>\n",
       "      <td>0</td>\n",
       "    </tr>\n",
       "    <tr>\n",
       "      <th>129</th>\n",
       "      <td>Infosys</td>\n",
       "      <td>50.0</td>\n",
       "      <td>3184.0</td>\n",
       "      <td>Calcutta</td>\n",
       "      <td>India</td>\n",
       "      <td>0</td>\n",
       "    </tr>\n",
       "    <tr>\n",
       "      <th>138</th>\n",
       "      <td>Cognizant</td>\n",
       "      <td>44.0</td>\n",
       "      <td>3033.0</td>\n",
       "      <td>Cochin</td>\n",
       "      <td>India</td>\n",
       "      <td>0</td>\n",
       "    </tr>\n",
       "    <tr>\n",
       "      <th>140</th>\n",
       "      <td>Infosys</td>\n",
       "      <td>44.0</td>\n",
       "      <td>4034.0</td>\n",
       "      <td>Hyderabad</td>\n",
       "      <td>India</td>\n",
       "      <td>0</td>\n",
       "    </tr>\n",
       "    <tr>\n",
       "      <th>145</th>\n",
       "      <td>Infosys</td>\n",
       "      <td>44.0</td>\n",
       "      <td>4034.0</td>\n",
       "      <td>Delhi</td>\n",
       "      <td>India</td>\n",
       "      <td>1</td>\n",
       "    </tr>\n",
       "  </tbody>\n",
       "</table>\n",
       "</div>"
      ],
      "text/plain": [
       "    Company_Name  Employee_Age  Employee_Salary   Location Country_Name  \\\n",
       "21       Infosys          50.0           3184.0      Delhi        India   \n",
       "32       Infosys          45.0           4034.0   Calcutta        India   \n",
       "39       Infosys          41.0           3000.0     Mumbai        India   \n",
       "50       Infosys          41.0           3000.0    Chennai        India   \n",
       "57       Infosys          51.0           3184.0  Hyderabad        India   \n",
       "68       Infosys          43.0           4034.0     Mumbai        India   \n",
       "75       Infosys          44.0           3000.0     Cochin        India   \n",
       "86       Infosys          41.0           3000.0      Delhi        India   \n",
       "93       Infosys          54.0           3184.0     Mumbai        India   \n",
       "104      Infosys          44.0           4034.0      Delhi        India   \n",
       "122      Infosys          44.0           3234.0     Mumbai        India   \n",
       "129      Infosys          50.0           3184.0   Calcutta        India   \n",
       "138    Cognizant          44.0           3033.0     Cochin        India   \n",
       "140      Infosys          44.0           4034.0  Hyderabad        India   \n",
       "145      Infosys          44.0           4034.0      Delhi        India   \n",
       "\n",
       "     Gender_Code  \n",
       "21             0  \n",
       "32             0  \n",
       "39             0  \n",
       "50             0  \n",
       "57             0  \n",
       "68             0  \n",
       "75             0  \n",
       "86             0  \n",
       "93             0  \n",
       "104            0  \n",
       "122            0  \n",
       "129            0  \n",
       "138            0  \n",
       "140            0  \n",
       "145            1  "
      ]
     },
     "execution_count": 82,
     "metadata": {},
     "output_type": "execute_result"
    }
   ],
   "source": [
    "# Filtering data where age > 40 and salary < 5000\n",
    "filtered_df = df[(df[\"Employee_Age\"] > 40) & (df[\"Employee_Salary\"] < 5000)]\n",
    "filtered_df"
   ]
  },
  {
   "cell_type": "code",
   "execution_count": 83,
   "id": "c478e74d-cd26-4114-a23a-b675f41a7172",
   "metadata": {},
   "outputs": [
    {
     "data": {
      "image/png": "[encoded data removed]",
      "text/plain": [
       "<Figure size 800x500 with 1 Axes>"
      ]
     },
     "metadata": {},
     "output_type": "display_data"
    }
   ],
   "source": [
    "# Plot Age vs Salary for filtered data\n",
    "plt.figure(figsize=(8, 5))\n",
    "sns.scatterplot(x=filtered_df[\"Employee_Age\"], y=filtered_df[\"Employee_Salary\"], color='red')\n",
    "plt.xlabel(\"Age\")\n",
    "plt.ylabel(\"Salary\")\n",
    "plt.title(\"Age vs Salary for Employees with Age > 40 and Salary < 5000\")\n",
    "plt.show()"
   ]
  },
  {
   "cell_type": "code",
   "execution_count": 84,
   "id": "6b61a190-ff90-42c4-bdfa-b36f67f9fbfd",
   "metadata": {},
   "outputs": [
    {
     "data": {
      "text/plain": [
       "Location\n",
       "Mumbai        48\n",
       "Calcutta      32\n",
       "Chennai       14\n",
       "Delhi         14\n",
       "Cochin        13\n",
       "Noida          8\n",
       "Hyderabad      8\n",
       "Podicherry     3\n",
       "Pune           2\n",
       "Bhopal         1\n",
       "Nagpur         1\n",
       "Name: count, dtype: int64"
      ]
     },
     "execution_count": 84,
     "metadata": {},
     "output_type": "execute_result"
    }
   ],
   "source": [
    "# Count number of people from each place\n",
    "place_counts = df[\"Location\"].value_counts()\n",
    "place_counts"
   ]
  },
  {
   "cell_type": "code",
   "execution_count": 85,
   "id": "9f911d1a-5e13-4bd3-91c6-da029dcc945a",
   "metadata": {},
   "outputs": [
    {
     "data": {
      "image/png": "[encoded data removed]",
      "text/plain": [
       "<Figure size 1000x500 with 1 Axes>"
      ]
     },
     "metadata": {},
     "output_type": "display_data"
    }
   ],
   "source": [
    "# Plot count of people from each location\n",
    "plt.figure(figsize=(10, 5))\n",
    "sns.barplot(x=place_counts.index, y=place_counts.values, palette=\"viridis\")\n",
    "plt.xlabel(\"Location\")\n",
    "plt.ylabel(\"Count\")\n",
    "plt.title(\"Number of People from Each Location\")\n",
    "plt.xticks(rotation=45)\n",
    "plt.show()"
   ]
  },
  {
   "cell_type": "markdown",
   "id": "8335d0db-f0ee-48af-bdff-37b9e1414378",
   "metadata": {},
   "source": [
    "### Data Encoding:\n",
    "Convert categorical variables into numerical representations using techniques such as one-hot encoding, label encoding, making them suitable \n",
    "for analysis by machine learning algorithms.\n"
   ]
  },
  {
   "cell_type": "code",
   "execution_count": 86,
   "id": "7bef9e4d-615f-4ba9-ad7f-7837e7c0a868",
   "metadata": {},
   "outputs": [],
   "source": [
    "#label encoding\n",
    "label_encoders = {}\n",
    "categorical_columns = [\"Company_Name\", \"Location\", \"Country_Name\", \"Gender_Code\"]\n",
    "\n",
    "for col in categorical_columns:\n",
    "    le = LabelEncoder()\n",
    "    df[col] = le.fit_transform(df[col])\n",
    "    label_encoders[col] = le"
   ]
  },
  {
   "cell_type": "code",
   "execution_count": 87,
   "id": "45d25ae3-3174-4d69-b68f-b458ff21376f",
   "metadata": {},
   "outputs": [],
   "source": [
    "# One-hot encoding \n",
    "df = pd.get_dummies(df, columns=categorical_columns, drop_first=True)\n"
   ]
  },
  {
   "cell_type": "markdown",
   "id": "8e60d911-1ff6-4c88-bc80-aa7357d16229",
   "metadata": {},
   "source": [
    "### Feature Scaling:\n",
    "After the process of encoding, perform the scaling of the features using standardscaler and minmaxscaler."
   ]
  },
  {
   "cell_type": "code",
   "execution_count": 88,
   "id": "65357535-003a-43ae-8976-df8f8a3b8280",
   "metadata": {},
   "outputs": [
    {
     "name": "stdout",
     "output_type": "stream",
     "text": [
      "\n",
      "Scaling features using StandardScaler and MinMaxScaler...\n"
     ]
    }
   ],
   "source": [
    "# Feature Scaling\n",
    "print(\"\\nScaling features using StandardScaler and MinMaxScaler...\")\n",
    "scaler_standard = StandardScaler()\n",
    "scaler_minmax = MinMaxScaler()\n",
    "\n",
    "numerical_columns = [\"Employee_Age\", \"Employee_Salary\"]\n",
    "df_standard_scaled = df.copy()\n",
    "df_minmax_scaled = df.copy()\n",
    "\n",
    "df_standard_scaled[numerical_columns] = scaler_standard.fit_transform(df[numerical_columns])\n",
    "df_minmax_scaled[numerical_columns] = scaler_minmax.fit_transform(df[numerical_columns])\n"
   ]
  },
  {
   "cell_type": "code",
   "execution_count": 89,
   "id": "cb1708bf-4196-4874-8a46-f4171912148d",
   "metadata": {},
   "outputs": [
    {
     "name": "stdout",
     "output_type": "stream",
     "text": [
      "\n",
      "Cleaned and scaled datasets saved as 'Cleaned_Employee_StandardScaled.csv' and 'Cleaned_Employee_MinMaxScaled.csv'\n"
     ]
    }
   ],
   "source": [
    "# Save cleaned and scaled dataset\n",
    "df_standard_scaled.to_csv(\"Cleaned_Employee_StandardScaled.csv\", index=False)\n",
    "df_minmax_scaled.to_csv(\"Cleaned_Employee_MinMaxScaled.csv\", index=False)\n",
    "print(\"\\nCleaned and scaled datasets saved as 'Cleaned_Employee_StandardScaled.csv' and 'Cleaned_Employee_MinMaxScaled.csv'\")\n"
   ]
  },
  {
   "cell_type": "code",
   "execution_count": null,
   "id": "737924f5-c10e-4e40-8beb-a04d7364e1a3",
   "metadata": {},
   "outputs": [],
   "source": []
  },
  {
   "cell_type": "code",
   "execution_count": null,
   "id": "27ee3c49-32d4-4127-889c-8f4b5c88241c",
   "metadata": {},
   "outputs": [],
   "source": []
  },
  {
   "cell_type": "code",
   "execution_count": null,
   "id": "31baa1c6-6373-4f58-8da1-1a31f8724ed1",
   "metadata": {},
   "outputs": [],
   "source": []
  }
 ],
 "metadata": {
  "kernelspec": {
   "display_name": "Python 3 (ipykernel)",
   "language": "python",
   "name": "python3"
  },
  "language_info": {
   "codemirror_mode": {
    "name": "ipython",
    "version": 3
   },
   "file_extension": ".py",
   "mimetype": "text/x-python",
   "name": "python",
   "nbconvert_exporter": "python",
   "pygments_lexer": "ipython3",
   "version": "3.12.7"
  }
 },
 "nbformat": 4,
 "nbformat_minor": 5
}
